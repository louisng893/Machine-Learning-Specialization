{
 "cells": [
  {
   "cell_type": "markdown",
   "id": "3b5cb2ac",
   "metadata": {},
   "source": [
    "# Supervised Machine Learning: Regression and Classification\n",
    "___\n",
    "Table of contents <br>\n",
    "[Week 1: Introduction to Machine Learning](#week-1-introduction-to-machine-learning) <br>\n",
    "[Week 2: Regression with multiple input variables](#week-2-regression-with-multiple-input-variables) <br>\n",
    "[Week 3: Classification](#week-3-classification) <br>"
   ]
  },
  {
   "cell_type": "markdown",
   "id": "e433c1be",
   "metadata": {},
   "source": [
    "## Week 1: Introduction to Machine Learning"
   ]
  },
  {
   "cell_type": "markdown",
   "id": "34c05a46",
   "metadata": {},
   "source": [
    "## Week 2: Regression with multiple input variables"
   ]
  },
  {
   "cell_type": "markdown",
   "id": "1fd921a6",
   "metadata": {},
   "source": [
    "## Week 3: Classification"
   ]
  }
 ],
 "metadata": {
  "kernelspec": {
   "display_name": "base",
   "language": "python",
   "name": "python3"
  },
  "language_info": {
   "name": "python",
   "version": "3.12.3"
  }
 },
 "nbformat": 4,
 "nbformat_minor": 5
}
