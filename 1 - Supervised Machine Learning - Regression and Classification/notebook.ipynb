{
 "cells": [
  {
   "cell_type": "markdown",
   "id": "3b5cb2ac",
   "metadata": {},
   "source": [
    "# Supervised Machine Learning: Regression and Classification\n",
    "___\n",
    "Table of contents <br>\n",
    "[Week 1: Introduction to Machine Learning](#week-1-introduction-to-machine-learning) <br>\n",
    "[Week 2: Regression with multiple input variables](#week-2-regression-with-multiple-input-variables) <br>\n",
    "[Week 3: Classification](#week-3-classification) <br>"
   ]
  },
  {
   "cell_type": "markdown",
   "id": "e433c1be",
   "metadata": {},
   "source": [
    "## Week 1: Introduction to Machine Learning"
   ]
  },
  {
   "cell_type": "markdown",
   "id": "c17d7d93",
   "metadata": {},
   "source": [
    "Machine Learning algorithms\n",
    "- Supervised learning: use most in real-world applications, rapid advancements\n",
    "- Unsupervised learning\n",
    "- Others: Recommender systems; Reinforcement learning"
   ]
  },
  {
   "cell_type": "markdown",
   "id": "9377b249",
   "metadata": {},
   "source": [
    "### Supervised vs. Unsupervised Machine Learning"
   ]
  },
  {
   "cell_type": "markdown",
   "id": "eca1c19e",
   "metadata": {},
   "source": [
    "#### Supervised Learning (or Supervised Machine Learning): \n",
    "Learn from being given **'right answers'**.\n",
    "- **Regression:** learn to predict input, output, or X to Y mappings (predict any number, all of  the infinitly many number of possible numbers).\n",
    "\n",
    "    *Example:* House pricing prediction\n",
    "- **Classification:** predict a small number of possible outputs (classes) or categories **(different from regression)**.\n",
    "\n",
    "    *Example:* Breast cancer detection, detect whether a tumor is malignant or benign"
   ]
  },
  {
   "cell_type": "markdown",
   "id": "32747fb3",
   "metadata": {},
   "source": [
    "#### Upsupervised Learning (or Unsupervised Machine Learning):\n",
    "Find some structure or some pattern, or just find something interesting in ublabled data. Data only comes with inputs x, but not oupt labels y. Algrithm has to find structure in the data.\n",
    "- **Clustering algorithms:** find and classify different groups in dataset (called clusters)\n",
    "\n",
    "     *Example:* Google news (group news with some similar words), DNA microarray (group individuals with similar gens), group customers (figure out reasons of customers)\n",
    "- **Anomaly detection:** fidn usual data points (fraud detection in finace)\n",
    "- **Dimentionality reduction:** compress data using fewer numbers.\n"
   ]
  },
  {
   "cell_type": "markdown",
   "id": "cfa889bc",
   "metadata": {},
   "source": [
    "#### Jupyter Notebooks - Lab: Python and Jupyter Notebooks\n",
    "[🔗 Open Lab: Python and Jupyter Notebooks](Lab/C1_W1_Lab01_Python_Jupyter_Soln.ipynb)"
   ]
  },
  {
   "cell_type": "markdown",
   "id": "34c05a46",
   "metadata": {},
   "source": [
    "## Week 2: Regression with multiple input variables"
   ]
  },
  {
   "cell_type": "markdown",
   "id": "1fd921a6",
   "metadata": {},
   "source": [
    "## Week 3: Classification"
   ]
  }
 ],
 "metadata": {
  "kernelspec": {
   "display_name": "base",
   "language": "python",
   "name": "python3"
  },
  "language_info": {
   "name": "python",
   "version": "3.12.3"
  }
 },
 "nbformat": 4,
 "nbformat_minor": 5
}
